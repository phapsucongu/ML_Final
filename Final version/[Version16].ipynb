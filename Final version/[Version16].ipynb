{
 "cells": [
  {
   "cell_type": "code",
   "execution_count": 1,
   "id": "58d2bd76",
   "metadata": {
    "execution": {
     "iopub.execute_input": "2024-12-19T16:48:41.842103Z",
     "iopub.status.busy": "2024-12-19T16:48:41.840655Z",
     "iopub.status.idle": "2024-12-19T16:48:48.565498Z",
     "shell.execute_reply": "2024-12-19T16:48:48.564800Z"
    },
    "papermill": {
     "duration": 6.737283,
     "end_time": "2024-12-19T16:48:48.567525",
     "exception": false,
     "start_time": "2024-12-19T16:48:41.830242",
     "status": "completed"
    },
    "tags": []
   },
   "outputs": [],
   "source": [
    "import numpy as np\n",
    "import pandas as pd\n",
    "import os\n",
    "import polars as pl\n",
    "from xgboost import XGBRegressor\n",
    "from concurrent.futures import ThreadPoolExecutor\n",
    "from tqdm import tqdm\n",
    "from sklearn.impute import SimpleImputer, KNNImputer\n",
    "from lightgbm import LGBMRegressor\n",
    "from xgboost import XGBRegressor\n",
    "from catboost import CatBoostRegressor\n",
    "from sklearn.metrics import cohen_kappa_score\n",
    "from sklearn.model_selection import StratifiedKFold\n",
    "from sklearn.base import clone\n",
    "from IPython.display import clear_output\n",
    "from scipy.optimize import minimize\n",
    "from colorama import Fore, Style\n",
    "import lightgbm as lgb\n",
    "from sklearn.pipeline import Pipeline\n",
    "\n",
    "from sklearn.ensemble import VotingRegressor, RandomForestRegressor, GradientBoostingRegressor"
   ]
  },
  {
   "cell_type": "code",
   "execution_count": 2,
   "id": "9b3e23e4",
   "metadata": {
    "execution": {
     "iopub.execute_input": "2024-12-19T16:48:48.576606Z",
     "iopub.status.busy": "2024-12-19T16:48:48.576093Z",
     "iopub.status.idle": "2024-12-19T16:48:48.579968Z",
     "shell.execute_reply": "2024-12-19T16:48:48.579293Z"
    },
    "papermill": {
     "duration": 0.010063,
     "end_time": "2024-12-19T16:48:48.581627",
     "exception": false,
     "start_time": "2024-12-19T16:48:48.571564",
     "status": "completed"
    },
    "tags": []
   },
   "outputs": [],
   "source": [
    "SEED = 42\n",
    "n_splits = 5"
   ]
  },
  {
   "cell_type": "markdown",
   "id": "5fda75a2",
   "metadata": {
    "papermill": {
     "duration": 0.003418,
     "end_time": "2024-12-19T16:48:48.588740",
     "exception": false,
     "start_time": "2024-12-19T16:48:48.585322",
     "status": "completed"
    },
    "tags": []
   },
   "source": [
    "# Chuẩn bị hàm"
   ]
  },
  {
   "cell_type": "markdown",
   "id": "7228a5c2",
   "metadata": {
    "papermill": {
     "duration": 0.004463,
     "end_time": "2024-12-19T16:48:48.596678",
     "exception": false,
     "start_time": "2024-12-19T16:48:48.592215",
     "status": "completed"
    },
    "tags": []
   },
   "source": [
    "## Data"
   ]
  },
  {
   "cell_type": "markdown",
   "id": "a240a88a",
   "metadata": {
    "papermill": {
     "duration": 0.003251,
     "end_time": "2024-12-19T16:48:48.603439",
     "exception": false,
     "start_time": "2024-12-19T16:48:48.600188",
     "status": "completed"
    },
    "tags": []
   },
   "source": [
    "### Hàm tính điểm"
   ]
  },
  {
   "cell_type": "code",
   "execution_count": 3,
   "id": "5908d316",
   "metadata": {
    "execution": {
     "iopub.execute_input": "2024-12-19T16:48:48.611338Z",
     "iopub.status.busy": "2024-12-19T16:48:48.611071Z",
     "iopub.status.idle": "2024-12-19T16:48:48.615796Z",
     "shell.execute_reply": "2024-12-19T16:48:48.615037Z"
    },
    "papermill": {
     "duration": 0.010484,
     "end_time": "2024-12-19T16:48:48.617300",
     "exception": false,
     "start_time": "2024-12-19T16:48:48.606816",
     "status": "completed"
    },
    "tags": []
   },
   "outputs": [],
   "source": [
    "def quadratic_weighted_kappa(y_true, y_pred):\n",
    "    return cohen_kappa_score(y_true, y_pred, weights='quadratic')\n",
    "\n",
    "def evaluate_predictions(thresholds, y_true, oof_non_rounded):\n",
    "    rounded_p = threshold_Rounder(oof_non_rounded, thresholds)\n",
    "    return -quadratic_weighted_kappa(y_true, rounded_p)\n",
    "\n",
    "def threshold_Rounder(oof_non_rounded, thresholds):\n",
    "    return np.where(oof_non_rounded < thresholds[0], 0,\n",
    "                    np.where(oof_non_rounded < thresholds[1], 1,\n",
    "                             np.where(oof_non_rounded < thresholds[2], 2, 3)))"
   ]
  },
  {
   "cell_type": "markdown",
   "id": "edcac5ab",
   "metadata": {
    "papermill": {
     "duration": 0.003301,
     "end_time": "2024-12-19T16:48:48.624067",
     "exception": false,
     "start_time": "2024-12-19T16:48:48.620766",
     "status": "completed"
    },
    "tags": []
   },
   "source": [
    "### Tải dữ liệu"
   ]
  },
  {
   "cell_type": "code",
   "execution_count": 4,
   "id": "5853e755",
   "metadata": {
    "execution": {
     "iopub.execute_input": "2024-12-19T16:48:48.631954Z",
     "iopub.status.busy": "2024-12-19T16:48:48.631724Z",
     "iopub.status.idle": "2024-12-19T16:48:48.637420Z",
     "shell.execute_reply": "2024-12-19T16:48:48.636645Z"
    },
    "papermill": {
     "duration": 0.011364,
     "end_time": "2024-12-19T16:48:48.638920",
     "exception": false,
     "start_time": "2024-12-19T16:48:48.627556",
     "status": "completed"
    },
    "tags": []
   },
   "outputs": [],
   "source": [
    "def process_file(filename, dirname):\n",
    "    df = pd.read_parquet(os.path.join(dirname, filename, 'part-0.parquet'))\n",
    "    df.drop('step', axis=1, inplace=True)\n",
    "    return df.describe().values.reshape(-1), filename.split('=')[1]\n",
    "\n",
    "def load_time_series(dirname) -> pd.DataFrame:\n",
    "    ids = os.listdir(dirname)\n",
    "    \n",
    "    with ThreadPoolExecutor() as executor:\n",
    "        results = list(tqdm(executor.map(lambda fname: process_file(fname, dirname), ids), total=len(ids)))\n",
    "    \n",
    "    stats, indexes = zip(*results)\n",
    "    \n",
    "    df = pd.DataFrame(stats, columns=[f\"Stat_{i}\" for i in range(len(stats[0]))])\n",
    "    df['id'] = indexes\n",
    "    \n",
    "    return df\n",
    "\n"
   ]
  },
  {
   "cell_type": "markdown",
   "id": "98705c82",
   "metadata": {
    "papermill": {
     "duration": 0.003201,
     "end_time": "2024-12-19T16:48:48.645576",
     "exception": false,
     "start_time": "2024-12-19T16:48:48.642375",
     "status": "completed"
    },
    "tags": []
   },
   "source": [
    "### Xử lí dữ liệu"
   ]
  },
  {
   "cell_type": "code",
   "execution_count": 5,
   "id": "aab47ad1",
   "metadata": {
    "execution": {
     "iopub.execute_input": "2024-12-19T16:48:48.653954Z",
     "iopub.status.busy": "2024-12-19T16:48:48.653274Z",
     "iopub.status.idle": "2024-12-19T16:48:48.661042Z",
     "shell.execute_reply": "2024-12-19T16:48:48.660455Z"
    },
    "papermill": {
     "duration": 0.013486,
     "end_time": "2024-12-19T16:48:48.662544",
     "exception": false,
     "start_time": "2024-12-19T16:48:48.649058",
     "status": "completed"
    },
    "tags": []
   },
   "outputs": [],
   "source": [
    "## xóa các cột season (cột season có kiểu dữ liệu string)\n",
    "def delete_season_cols(df):\n",
    "    season_cols = [col for col in df.columns if 'Season' in col]\n",
    "    df = df.drop(season_cols, axis=1)\n",
    "    return df\n",
    "\n",
    "\n",
    "## xử lí dữ liệu thiếu\n",
    "def imputer_data(train):\n",
    "    imputer = KNNImputer(n_neighbors=5)\n",
    "    numeric_cols = train.select_dtypes(include=['float64', 'int64']).columns\n",
    "    imputed_data = imputer.fit_transform(train[numeric_cols])\n",
    "    train_imputed = pd.DataFrame(imputed_data, columns=numeric_cols)\n",
    "    train_imputed['sii'] = train_imputed['sii'].round().astype(int)\n",
    "    for col in train.columns:\n",
    "        if col not in numeric_cols:\n",
    "            train_imputed[col] = train[col]\n",
    "            \n",
    "    train = train_imputed\n",
    "    return train\n",
    "\n",
    "\n",
    "## Xử lý các cột phân loại trong dữ liệu bằng cách thay thế giá trị NaN bằng 'Missing' và chuyển thành kiểu category \n",
    "def update(df, cat_c):\n",
    "    for c in cat_c: \n",
    "        df[c] = df[c].fillna('Missing')\n",
    "        df[c] = df[c].astype('category')\n",
    "    return df\n",
    "\n",
    "\n",
    "#Tạo một dictionary ánh xạ mỗi giá trị duy nhất trong cột thành một số nguyên.\n",
    "def create_mapping(column, dataset):\n",
    "        unique_values = dataset[column].unique()\n",
    "        return {value: idx for idx, value in enumerate(unique_values)}\n",
    "\n",
    "\n",
    "## xử lí dữ liệu dạng string thành số\n",
    "def process_string_data(train, test, cat_c):\n",
    "            \n",
    "    train = update(train, cat_c)\n",
    "    test = update(test, cat_c)\n",
    "    \n",
    "    for col in cat_c:\n",
    "        mapping = create_mapping(col, train)\n",
    "        mappingTe = create_mapping(col, test)\n",
    "        \n",
    "        train[col] = train[col].cat.rename_categories(mapping).astype(int)\n",
    "        test[col] = test[col].cat.rename_categories(mappingTe).astype(int)\n",
    "\n",
    "    return train, test"
   ]
  },
  {
   "cell_type": "markdown",
   "id": "c98d80d9",
   "metadata": {
    "papermill": {
     "duration": 0.003679,
     "end_time": "2024-12-19T16:48:48.669732",
     "exception": false,
     "start_time": "2024-12-19T16:48:48.666053",
     "status": "completed"
    },
    "tags": []
   },
   "source": [
    "### Các hàm load và xử lí data"
   ]
  },
  {
   "cell_type": "code",
   "execution_count": 6,
   "id": "7c1bee45",
   "metadata": {
    "execution": {
     "iopub.execute_input": "2024-12-19T16:48:48.677898Z",
     "iopub.status.busy": "2024-12-19T16:48:48.677662Z",
     "iopub.status.idle": "2024-12-19T16:48:48.685715Z",
     "shell.execute_reply": "2024-12-19T16:48:48.684943Z"
    },
    "papermill": {
     "duration": 0.014116,
     "end_time": "2024-12-19T16:48:48.687333",
     "exception": false,
     "start_time": "2024-12-19T16:48:48.673217",
     "status": "completed"
    },
    "tags": []
   },
   "outputs": [],
   "source": [
    "def load_and_process_data_1():\n",
    "    train = pd.read_csv('/kaggle/input/child-mind-institute-problematic-internet-use/train.csv')\n",
    "    test = pd.read_csv('/kaggle/input/child-mind-institute-problematic-internet-use/test.csv')\n",
    "    sample = pd.read_csv('/kaggle/input/child-mind-institute-problematic-internet-use/sample_submission.csv')\n",
    "    \n",
    "    train_ts = load_time_series(\"/kaggle/input/child-mind-institute-problematic-internet-use/series_train.parquet\")\n",
    "    test_ts = load_time_series(\"/kaggle/input/child-mind-institute-problematic-internet-use/series_test.parquet\")\n",
    "    \n",
    "    train = pd.merge(train, train_ts, how=\"left\", on='id')\n",
    "    train = train.dropna(subset=['sii'])\n",
    "    test = pd.merge(test, test_ts, how=\"left\", on='id')\n",
    "    \n",
    "    ## xử lí dữ liệu\n",
    "    train = train.drop(['id'], axis = 1)\n",
    "    test = test.drop(['id'], axis = 1)\n",
    "    train = imputer_data(train)\n",
    "\n",
    "    ## lựa chọn features\n",
    "    featuresCols = ['Basic_Demos-Enroll_Season', 'Basic_Demos-Age', 'Basic_Demos-Sex',\n",
    "                'CGAS-Season', 'CGAS-CGAS_Score',\n",
    "                'Physical-Season', 'Physical-Height', 'Physical-Weight', 'Physical-Diastolic_BP', 'Physical-HeartRate', 'Physical-Systolic_BP',\n",
    "                'Fitness_Endurance-Season', 'Fitness_Endurance-Max_Stage', 'Fitness_Endurance-Time_Mins', 'Fitness_Endurance-Time_Sec',\n",
    "                'FGC-Season', 'FGC-FGC_CU', 'FGC-FGC_CU_Zone', 'FGC-FGC_GSND', 'FGC-FGC_GSND_Zone', 'FGC-FGC_GSD', 'FGC-FGC_GSD_Zone', 'FGC-FGC_PU',\n",
    "                'FGC-FGC_PU_Zone', 'FGC-FGC_SRL', 'FGC-FGC_SRL_Zone', 'FGC-FGC_SRR', 'FGC-FGC_SRR_Zone', 'FGC-FGC_TL', 'FGC-FGC_TL_Zone',\n",
    "                'BIA-Season', 'BIA-BIA_Activity_Level_num', 'BIA-BIA_BMC', 'BIA-BIA_BMI', 'BIA-BIA_FFMI', 'BIA-BIA_FMI', 'BIA-BIA_Fat', 'BIA-BIA_Frame_num',\n",
    "                'PAQ_A-Season','PAQ_A-PAQ_A_Total', 'PAQ_C-Season', 'PAQ_C-PAQ_C_Total',\n",
    "                'SDS-Season', 'SDS-SDS_Total_Raw', 'SDS-SDS_Total_T',\n",
    "                'PreInt_EduHx-Season', 'PreInt_EduHx-computerinternet_hoursday',\n",
    "                'sii']\n",
    "\n",
    "    featuresColstest = ['Basic_Demos-Enroll_Season', 'Basic_Demos-Age', 'Basic_Demos-Sex',\n",
    "                    'CGAS-Season', 'CGAS-CGAS_Score',\n",
    "                    'Physical-Season', 'Physical-Height', 'Physical-Weight', 'Physical-Diastolic_BP', 'Physical-HeartRate', 'Physical-Systolic_BP',\n",
    "                    'Fitness_Endurance-Season', 'Fitness_Endurance-Max_Stage', 'Fitness_Endurance-Time_Mins', 'Fitness_Endurance-Time_Sec',\n",
    "                    'FGC-Season', 'FGC-FGC_CU', 'FGC-FGC_CU_Zone', 'FGC-FGC_GSND', 'FGC-FGC_GSND_Zone', 'FGC-FGC_GSD', 'FGC-FGC_GSD_Zone', 'FGC-FGC_PU',\n",
    "                    'FGC-FGC_PU_Zone', 'FGC-FGC_SRL', 'FGC-FGC_SRL_Zone', 'FGC-FGC_SRR', 'FGC-FGC_SRR_Zone', 'FGC-FGC_TL', 'FGC-FGC_TL_Zone',\n",
    "                    'BIA-Season', 'BIA-BIA_Activity_Level_num', 'BIA-BIA_BMC', 'BIA-BIA_BMI', 'BIA-BIA_FFMI', 'BIA-BIA_FMI', 'BIA-BIA_Fat', 'BIA-BIA_Frame_num',\n",
    "                    'PAQ_A-Season','PAQ_A-PAQ_A_Total', 'PAQ_C-Season', 'PAQ_C-PAQ_C_Total',\n",
    "                    'SDS-Season', 'SDS-SDS_Total_Raw', 'SDS-SDS_Total_T',\n",
    "                    'PreInt_EduHx-Season', 'PreInt_EduHx-computerinternet_hoursday']\n",
    "    ## time_series_feature\n",
    "    time_series_cols = train_ts.columns.tolist()\n",
    "    time_series_cols.remove(\"id\")\n",
    "    ## thêm time_series_feature\n",
    "    featuresCols+= time_series_cols\n",
    "    featuresColstest+=time_series_cols\n",
    "    \n",
    "    train = train[featuresCols]\n",
    "    test = test[featuresColstest]\n",
    "    \n",
    "    ## xóa features liên quan đến mùa vì nó có dạng string\n",
    "    train = delete_season_cols(train)\n",
    "    test = delete_season_cols(test)\n",
    "\n",
    "    return train, test"
   ]
  },
  {
   "cell_type": "code",
   "execution_count": 7,
   "id": "187681a1",
   "metadata": {
    "execution": {
     "iopub.execute_input": "2024-12-19T16:48:48.695563Z",
     "iopub.status.busy": "2024-12-19T16:48:48.695299Z",
     "iopub.status.idle": "2024-12-19T16:48:48.703519Z",
     "shell.execute_reply": "2024-12-19T16:48:48.702717Z"
    },
    "papermill": {
     "duration": 0.014356,
     "end_time": "2024-12-19T16:48:48.705124",
     "exception": false,
     "start_time": "2024-12-19T16:48:48.690768",
     "status": "completed"
    },
    "tags": []
   },
   "outputs": [],
   "source": [
    "def load_and_process_data_2():\n",
    "    train = pd.read_csv('/kaggle/input/child-mind-institute-problematic-internet-use/train.csv')\n",
    "    test = pd.read_csv('/kaggle/input/child-mind-institute-problematic-internet-use/test.csv')\n",
    "    sample = pd.read_csv('/kaggle/input/child-mind-institute-problematic-internet-use/sample_submission.csv')\n",
    "    \n",
    "    train_ts = load_time_series(\"/kaggle/input/child-mind-institute-problematic-internet-use/series_train.parquet\")\n",
    "    test_ts = load_time_series(\"/kaggle/input/child-mind-institute-problematic-internet-use/series_test.parquet\")\n",
    "    \n",
    "    train = pd.merge(train, train_ts, how=\"left\", on='id')\n",
    "    test = pd.merge(test, test_ts, how=\"left\", on='id')\n",
    "    \n",
    "    \n",
    "    ## xử lí dữ liệu\n",
    "    train = train.drop(['id'], axis = 1)\n",
    "    test = test.drop(['id'], axis = 1)\n",
    "    train = imputer_data(train)\n",
    "\n",
    "    ## lựa chọn features\n",
    "    featuresCols = ['Basic_Demos-Enroll_Season', 'Basic_Demos-Age', 'Basic_Demos-Sex',\n",
    "                'CGAS-Season', 'CGAS-CGAS_Score',\n",
    "                'Physical-Season', 'Physical-Height', 'Physical-Weight', 'Physical-Diastolic_BP', 'Physical-HeartRate', 'Physical-Systolic_BP',\n",
    "                'Fitness_Endurance-Season', 'Fitness_Endurance-Max_Stage', 'Fitness_Endurance-Time_Mins', 'Fitness_Endurance-Time_Sec',\n",
    "                'FGC-Season', 'FGC-FGC_CU', 'FGC-FGC_CU_Zone', 'FGC-FGC_GSND', 'FGC-FGC_GSND_Zone', 'FGC-FGC_GSD', 'FGC-FGC_GSD_Zone', 'FGC-FGC_PU',\n",
    "                'FGC-FGC_PU_Zone', 'FGC-FGC_SRL', 'FGC-FGC_SRL_Zone', 'FGC-FGC_SRR', 'FGC-FGC_SRR_Zone', 'FGC-FGC_TL', 'FGC-FGC_TL_Zone',\n",
    "                'BIA-Season', 'BIA-BIA_Activity_Level_num', 'BIA-BIA_BMC', 'BIA-BIA_BMI', 'BIA-BIA_FFMI', 'BIA-BIA_FMI', 'BIA-BIA_Fat', 'BIA-BIA_Frame_num',\n",
    "                'PAQ_A-Season','PAQ_A-PAQ_A_Total', 'PAQ_C-Season', 'PAQ_C-PAQ_C_Total',\n",
    "                'SDS-Season', 'SDS-SDS_Total_Raw', 'SDS-SDS_Total_T',\n",
    "                'PreInt_EduHx-Season', 'PreInt_EduHx-computerinternet_hoursday',\n",
    "                'sii']\n",
    "\n",
    "    featuresColstest = ['Basic_Demos-Enroll_Season', 'Basic_Demos-Age', 'Basic_Demos-Sex',\n",
    "                    'CGAS-Season', 'CGAS-CGAS_Score',\n",
    "                    'Physical-Season', 'Physical-Height', 'Physical-Weight', 'Physical-Diastolic_BP', 'Physical-HeartRate', 'Physical-Systolic_BP',\n",
    "                    'Fitness_Endurance-Season', 'Fitness_Endurance-Max_Stage', 'Fitness_Endurance-Time_Mins', 'Fitness_Endurance-Time_Sec',\n",
    "                    'FGC-Season', 'FGC-FGC_CU', 'FGC-FGC_CU_Zone', 'FGC-FGC_GSND', 'FGC-FGC_GSND_Zone', 'FGC-FGC_GSD', 'FGC-FGC_GSD_Zone', 'FGC-FGC_PU',\n",
    "                    'FGC-FGC_PU_Zone', 'FGC-FGC_SRL', 'FGC-FGC_SRL_Zone', 'FGC-FGC_SRR', 'FGC-FGC_SRR_Zone', 'FGC-FGC_TL', 'FGC-FGC_TL_Zone',\n",
    "                    'BIA-Season', 'BIA-BIA_Activity_Level_num', 'BIA-BIA_BMC', 'BIA-BIA_BMI', 'BIA-BIA_FFMI', 'BIA-BIA_FMI', 'BIA-BIA_Fat', 'BIA-BIA_Frame_num',\n",
    "                    'PAQ_A-Season','PAQ_A-PAQ_A_Total', 'PAQ_C-Season', 'PAQ_C-PAQ_C_Total',\n",
    "                    'SDS-Season', 'SDS-SDS_Total_Raw', 'SDS-SDS_Total_T',\n",
    "                    'PreInt_EduHx-Season', 'PreInt_EduHx-computerinternet_hoursday']\n",
    "    \n",
    "    ## time_series_feature\n",
    "    time_series_cols = train_ts.columns.tolist()\n",
    "    time_series_cols.remove(\"id\")\n",
    "    ## thêm time_series_feature\n",
    "    featuresCols += time_series_cols\n",
    "    featuresColstest+=time_series_cols\n",
    "    train = train[featuresCols]\n",
    "    test = test[featuresColstest]\n",
    "    \n",
    "    ## xửa lí các feature string\n",
    "    cat_c = ['Basic_Demos-Enroll_Season', 'CGAS-Season', 'Physical-Season', \n",
    "          'Fitness_Endurance-Season', 'FGC-Season', 'BIA-Season', \n",
    "          'PAQ_A-Season', 'PAQ_C-Season', 'SDS-Season', 'PreInt_EduHx-Season'] # các cột có dạng string\n",
    "    train, test = process_string_data(train, test, cat_c)\n",
    "\n",
    "    return train, test"
   ]
  },
  {
   "cell_type": "code",
   "execution_count": 8,
   "id": "65aec23a",
   "metadata": {
    "execution": {
     "iopub.execute_input": "2024-12-19T16:48:48.713176Z",
     "iopub.status.busy": "2024-12-19T16:48:48.712933Z",
     "iopub.status.idle": "2024-12-19T16:48:48.721842Z",
     "shell.execute_reply": "2024-12-19T16:48:48.721280Z"
    },
    "papermill": {
     "duration": 0.014721,
     "end_time": "2024-12-19T16:48:48.723275",
     "exception": false,
     "start_time": "2024-12-19T16:48:48.708554",
     "status": "completed"
    },
    "tags": []
   },
   "outputs": [],
   "source": [
    "def load_and_process_data_3():\n",
    "    train = pd.read_csv('/kaggle/input/child-mind-institute-problematic-internet-use/train.csv')\n",
    "    test = pd.read_csv('/kaggle/input/child-mind-institute-problematic-internet-use/test.csv')\n",
    "    sample = pd.read_csv('/kaggle/input/child-mind-institute-problematic-internet-use/sample_submission.csv')\n",
    "    \n",
    "    train_ts = load_time_series(\"/kaggle/input/child-mind-institute-problematic-internet-use/series_train.parquet\")\n",
    "    test_ts = load_time_series(\"/kaggle/input/child-mind-institute-problematic-internet-use/series_test.parquet\")\n",
    "\n",
    "    \n",
    "    train = pd.merge(train, train_ts, how=\"left\", on='id')\n",
    "    test = pd.merge(test, test_ts, how=\"left\", on='id')\n",
    "    \n",
    "    ## xử lí dữ liệu\n",
    "    train = train.drop(['id'], axis = 1)\n",
    "    test = test.drop(['id'], axis = 1)\n",
    "\n",
    "    ## lựa chọn features\n",
    "    featuresCols = ['Basic_Demos-Enroll_Season', 'Basic_Demos-Age', 'Basic_Demos-Sex',\n",
    "                'CGAS-Season', 'CGAS-CGAS_Score', 'Physical-Season', 'Physical-BMI',\n",
    "                'Physical-Height', 'Physical-Weight', 'Physical-Waist_Circumference',\n",
    "                'Physical-Diastolic_BP', 'Physical-HeartRate', 'Physical-Systolic_BP',\n",
    "                'Fitness_Endurance-Season', 'Fitness_Endurance-Max_Stage',\n",
    "                'Fitness_Endurance-Time_Mins', 'Fitness_Endurance-Time_Sec',\n",
    "                'FGC-Season', 'FGC-FGC_CU', 'FGC-FGC_CU_Zone', 'FGC-FGC_GSND',\n",
    "                'FGC-FGC_GSND_Zone', 'FGC-FGC_GSD', 'FGC-FGC_GSD_Zone', 'FGC-FGC_PU',\n",
    "                'FGC-FGC_PU_Zone', 'FGC-FGC_SRL', 'FGC-FGC_SRL_Zone', 'FGC-FGC_SRR',\n",
    "                'FGC-FGC_SRR_Zone', 'FGC-FGC_TL', 'FGC-FGC_TL_Zone', 'BIA-Season',\n",
    "                'BIA-BIA_Activity_Level_num', 'BIA-BIA_BMC', 'BIA-BIA_BMI',\n",
    "                'BIA-BIA_BMR', 'BIA-BIA_DEE', 'BIA-BIA_ECW', 'BIA-BIA_FFM',\n",
    "                'BIA-BIA_FFMI', 'BIA-BIA_FMI', 'BIA-BIA_Fat', 'BIA-BIA_Frame_num',\n",
    "                'BIA-BIA_ICW', 'BIA-BIA_LDM', 'BIA-BIA_LST', 'BIA-BIA_SMM',\n",
    "                'BIA-BIA_TBW', 'PAQ_A-Season', 'PAQ_A-PAQ_A_Total', 'PAQ_C-Season',\n",
    "                'PAQ_C-PAQ_C_Total', 'SDS-Season', 'SDS-SDS_Total_Raw',\n",
    "                'SDS-SDS_Total_T', 'PreInt_EduHx-Season',\n",
    "                'PreInt_EduHx-computerinternet_hoursday', 'sii']\n",
    "\n",
    "    featuresColstest = ['Basic_Demos-Enroll_Season', 'Basic_Demos-Age', 'Basic_Demos-Sex',\n",
    "                    'CGAS-Season', 'CGAS-CGAS_Score',\n",
    "                    'Physical-Season', 'Physical-Height', 'Physical-Weight', 'Physical-Diastolic_BP', 'Physical-HeartRate', 'Physical-Systolic_BP',\n",
    "                    'Fitness_Endurance-Season', 'Fitness_Endurance-Max_Stage', 'Fitness_Endurance-Time_Mins', 'Fitness_Endurance-Time_Sec',\n",
    "                    'FGC-Season', 'FGC-FGC_CU', 'FGC-FGC_CU_Zone', 'FGC-FGC_GSND', 'FGC-FGC_GSND_Zone', 'FGC-FGC_GSD', 'FGC-FGC_GSD_Zone', 'FGC-FGC_PU',\n",
    "                    'FGC-FGC_PU_Zone', 'FGC-FGC_SRL', 'FGC-FGC_SRL_Zone', 'FGC-FGC_SRR', 'FGC-FGC_SRR_Zone', 'FGC-FGC_TL', 'FGC-FGC_TL_Zone',\n",
    "                    'BIA-Season', 'BIA-BIA_Activity_Level_num', 'BIA-BIA_BMC', 'BIA-BIA_BMI', 'BIA-BIA_FFMI', 'BIA-BIA_FMI', 'BIA-BIA_Fat', 'BIA-BIA_Frame_num',\n",
    "                    'PAQ_A-Season','PAQ_A-PAQ_A_Total', 'PAQ_C-Season', 'PAQ_C-PAQ_C_Total',\n",
    "                    'SDS-Season', 'SDS-SDS_Total_Raw', 'SDS-SDS_Total_T',\n",
    "                    'PreInt_EduHx-Season', 'PreInt_EduHx-computerinternet_hoursday']\n",
    "    \n",
    "    ## time_series_feature\n",
    "    time_series_cols = train_ts.columns.tolist()\n",
    "    time_series_cols.remove(\"id\")\n",
    "    ## thêm time_series_feature\n",
    "    featuresCols+= time_series_cols\n",
    "    \n",
    "    train = train[featuresCols]\n",
    "    train = train.dropna(subset='sii')\n",
    "    \n",
    "    ## xửa lí các feature string\n",
    "    cat_c = ['Basic_Demos-Enroll_Season', 'CGAS-Season', 'Physical-Season', \n",
    "          'Fitness_Endurance-Season', 'FGC-Season', 'BIA-Season', \n",
    "          'PAQ_A-Season', 'PAQ_C-Season', 'SDS-Season', 'PreInt_EduHx-Season'] # các cột có dạng string\n",
    "    train, test = process_string_data(train, test, cat_c)\n",
    "\n",
    "    return train, test"
   ]
  },
  {
   "cell_type": "markdown",
   "id": "53586223",
   "metadata": {
    "papermill": {
     "duration": 0.003549,
     "end_time": "2024-12-19T16:48:48.730264",
     "exception": false,
     "start_time": "2024-12-19T16:48:48.726715",
     "status": "completed"
    },
    "tags": []
   },
   "source": [
    "## Model"
   ]
  },
  {
   "cell_type": "code",
   "execution_count": 9,
   "id": "10be3e91",
   "metadata": {
    "execution": {
     "iopub.execute_input": "2024-12-19T16:48:48.737968Z",
     "iopub.status.busy": "2024-12-19T16:48:48.737736Z",
     "iopub.status.idle": "2024-12-19T16:48:48.747905Z",
     "shell.execute_reply": "2024-12-19T16:48:48.747316Z"
    },
    "papermill": {
     "duration": 0.015809,
     "end_time": "2024-12-19T16:48:48.749456",
     "exception": false,
     "start_time": "2024-12-19T16:48:48.733647",
     "status": "completed"
    },
    "tags": []
   },
   "outputs": [],
   "source": [
    "# Model parameters for LightGBM\n",
    "Params = {\n",
    "    'learning_rate': 0.046,\n",
    "    'max_depth': 12,\n",
    "    'num_leaves': 478,\n",
    "    'min_data_in_leaf': 13,\n",
    "    'feature_fraction': 0.893,\n",
    "    'bagging_fraction': 0.784,\n",
    "    'bagging_freq': 4,\n",
    "    'lambda_l1': 10,  # Increased from 6.59\n",
    "    'lambda_l2': 0.01  # Increased from 2.68e-06\n",
    "}\n",
    "\n",
    "\n",
    "# XGBoost parameters\n",
    "XGB_Params = {\n",
    "    'learning_rate': 0.05,\n",
    "    'max_depth': 6,\n",
    "    'n_estimators': 200,\n",
    "    'subsample': 0.8,\n",
    "    'colsample_bytree': 0.8,\n",
    "    'reg_alpha': 1,  # Increased from 0.1\n",
    "    'reg_lambda': 5,  # Increased from 1\n",
    "    'random_state': SEED\n",
    "}\n",
    "\n",
    "cat_c = ['Basic_Demos-Enroll_Season', 'CGAS-Season', 'Physical-Season', \n",
    "          'Fitness_Endurance-Season', 'FGC-Season', 'BIA-Season', \n",
    "          'PAQ_A-Season', 'PAQ_C-Season', 'SDS-Season', 'PreInt_EduHx-Season']\n",
    "\n",
    "CatBoost_Params = {\n",
    "    'learning_rate': 0.05,\n",
    "    'depth': 6,\n",
    "    'iterations': 200,\n",
    "    'random_seed': SEED,\n",
    "    'cat_features': cat_c,\n",
    "    'verbose': 0,\n",
    "    'l2_leaf_reg': 10  # Increase this value\n",
    "}\n",
    "\n",
    "# Create model instances\n",
    "Light = LGBMRegressor(**Params, random_state=SEED, verbose=-1, n_estimators=300)\n",
    "XGB_Model = XGBRegressor(**XGB_Params)\n",
    "CatBoost_Model = CatBoostRegressor(**CatBoost_Params)\n",
    "#TabNet_Model = TabNetWrapper(**TabNet_Params)  # New:TAbNet\n",
    "\n",
    "imputer = SimpleImputer(strategy='median')\n",
    "\n",
    "# Combine models using Voting Regressor\n",
    "voting_model = VotingRegressor(estimators=[\n",
    "    ('lightgbm', Light),\n",
    "    ('xgboost', XGB_Model),\n",
    "    ('catboost', CatBoost_Model),\n",
    "    ('rf', Pipeline(steps=[('imputer', imputer), ('regressor', RandomForestRegressor(random_state=SEED))])),\n",
    "    ('gb', Pipeline(steps=[('imputer', imputer), ('regressor', GradientBoostingRegressor(random_state=SEED))]))\n",
    "])\n",
    "\n"
   ]
  },
  {
   "cell_type": "markdown",
   "id": "f85e55d1",
   "metadata": {
    "papermill": {
     "duration": 0.003304,
     "end_time": "2024-12-19T16:48:48.756145",
     "exception": false,
     "start_time": "2024-12-19T16:48:48.752841",
     "status": "completed"
    },
    "tags": []
   },
   "source": [
    "## Các hàm Train"
   ]
  },
  {
   "cell_type": "code",
   "execution_count": 10,
   "id": "add37be6",
   "metadata": {
    "execution": {
     "iopub.execute_input": "2024-12-19T16:48:48.764182Z",
     "iopub.status.busy": "2024-12-19T16:48:48.763955Z",
     "iopub.status.idle": "2024-12-19T16:48:48.772528Z",
     "shell.execute_reply": "2024-12-19T16:48:48.771788Z"
    },
    "papermill": {
     "duration": 0.014518,
     "end_time": "2024-12-19T16:48:48.774068",
     "exception": false,
     "start_time": "2024-12-19T16:48:48.759550",
     "status": "completed"
    },
    "tags": []
   },
   "outputs": [],
   "source": [
    "def TrainML(sample, model_class, train, test_data):\n",
    "    X = train.drop(['sii'], axis=1)\n",
    "    y = train['sii']\n",
    "\n",
    "    SKF = StratifiedKFold(n_splits=n_splits, shuffle=True, random_state=SEED)\n",
    "    \n",
    "    train_S = []\n",
    "    test_S = []\n",
    "    \n",
    "    oof_non_rounded = np.zeros(len(y), dtype=float) \n",
    "    oof_rounded = np.zeros(len(y), dtype=int) \n",
    "    test_preds = np.zeros((len(test_data), n_splits))\n",
    "\n",
    "    for fold, (train_idx, test_idx) in enumerate(tqdm(SKF.split(X, y), desc=\"Training Folds\", total=n_splits)):\n",
    "        X_train, X_val = X.iloc[train_idx], X.iloc[test_idx]\n",
    "        y_train, y_val = y.iloc[train_idx], y.iloc[test_idx]\n",
    "\n",
    "        model = clone(model_class)\n",
    "        model.fit(X_train, y_train)\n",
    "\n",
    "        y_train_pred = model.predict(X_train)\n",
    "        y_val_pred = model.predict(X_val)\n",
    "\n",
    "        oof_non_rounded[test_idx] = y_val_pred\n",
    "        y_val_pred_rounded = y_val_pred.round(0).astype(int)\n",
    "        oof_rounded[test_idx] = y_val_pred_rounded\n",
    "\n",
    "        train_kappa = quadratic_weighted_kappa(y_train, y_train_pred.round(0).astype(int))\n",
    "        val_kappa = quadratic_weighted_kappa(y_val, y_val_pred_rounded)\n",
    "\n",
    "        train_S.append(train_kappa)\n",
    "        test_S.append(val_kappa)\n",
    "        \n",
    "        test_preds[:, fold] = model.predict(test_data)\n",
    "        \n",
    "        print(f\"Fold {fold+1} - Train QWK: {train_kappa:.4f}, Validation QWK: {val_kappa:.4f}\")\n",
    "        clear_output(wait=True)\n",
    "\n",
    "    print(f\"Mean Train QWK --> {np.mean(train_S):.4f}\")\n",
    "    print(f\"Mean Validation QWK ---> {np.mean(test_S):.4f}\")\n",
    "\n",
    "    KappaOPtimizer = minimize(evaluate_predictions,\n",
    "                              x0=[0.5, 1.5, 2.5], args=(y, oof_non_rounded), \n",
    "                              method='Nelder-Mead')\n",
    "    assert KappaOPtimizer.success, \"Optimization did not converge.\"\n",
    "    \n",
    "    oof_tuned = threshold_Rounder(oof_non_rounded, KappaOPtimizer.x)\n",
    "    tKappa = quadratic_weighted_kappa(y, oof_tuned)\n",
    "\n",
    "    print(f\"----> || Optimized QWK SCORE :: {Fore.CYAN}{Style.BRIGHT} {tKappa:.3f}{Style.RESET_ALL}\")\n",
    "\n",
    "    tpm = test_preds.mean(axis=1)\n",
    "    tpTuned = threshold_Rounder(tpm, KappaOPtimizer.x)\n",
    "    \n",
    "    submission = pd.DataFrame({\n",
    "        'id': sample['id'],\n",
    "        'sii': tpTuned\n",
    "    })\n",
    "\n",
    "    return submission"
   ]
  },
  {
   "cell_type": "markdown",
   "id": "80a212f9",
   "metadata": {
    "papermill": {
     "duration": 0.003337,
     "end_time": "2024-12-19T16:48:48.780880",
     "exception": false,
     "start_time": "2024-12-19T16:48:48.777543",
     "status": "completed"
    },
    "tags": []
   },
   "source": [
    "# Bắt đầu chạy"
   ]
  },
  {
   "cell_type": "code",
   "execution_count": 11,
   "id": "20bdbf22",
   "metadata": {
    "execution": {
     "iopub.execute_input": "2024-12-19T16:48:48.788869Z",
     "iopub.status.busy": "2024-12-19T16:48:48.788426Z",
     "iopub.status.idle": "2024-12-19T16:52:37.301275Z",
     "shell.execute_reply": "2024-12-19T16:52:37.300575Z"
    },
    "papermill": {
     "duration": 228.518738,
     "end_time": "2024-12-19T16:52:37.303120",
     "exception": false,
     "start_time": "2024-12-19T16:48:48.784382",
     "status": "completed"
    },
    "tags": []
   },
   "outputs": [
    {
     "name": "stderr",
     "output_type": "stream",
     "text": [
      "100%|██████████| 996/996 [01:11<00:00, 13.88it/s]\n",
      "100%|██████████| 2/2 [00:00<00:00, 10.78it/s]\n",
      "100%|██████████| 996/996 [01:08<00:00, 14.59it/s]\n",
      "100%|██████████| 2/2 [00:00<00:00, 14.09it/s]\n",
      "100%|██████████| 996/996 [01:08<00:00, 14.46it/s]\n",
      "100%|██████████| 2/2 [00:00<00:00, 13.43it/s]\n"
     ]
    }
   ],
   "source": [
    "## load data\n",
    "train_1, test_1 = load_and_process_data_1()\n",
    "train_2, test_2 = load_and_process_data_2()\n",
    "train_3, test_3 = load_and_process_data_3()\n",
    "sample = pd.read_csv('/kaggle/input/child-mind-institute-problematic-internet-use/sample_submission.csv')\n"
   ]
  },
  {
   "cell_type": "code",
   "execution_count": 12,
   "id": "24ec12cc",
   "metadata": {
    "execution": {
     "iopub.execute_input": "2024-12-19T16:52:37.402009Z",
     "iopub.status.busy": "2024-12-19T16:52:37.401375Z",
     "iopub.status.idle": "2024-12-19T16:54:26.990683Z",
     "shell.execute_reply": "2024-12-19T16:54:26.989718Z"
    },
    "papermill": {
     "duration": 109.639203,
     "end_time": "2024-12-19T16:54:26.992423",
     "exception": false,
     "start_time": "2024-12-19T16:52:37.353220",
     "status": "completed"
    },
    "tags": []
   },
   "outputs": [
    {
     "name": "stderr",
     "output_type": "stream",
     "text": [
      "Training Folds: 100%|██████████| 5/5 [01:49<00:00, 21.87s/it]"
     ]
    },
    {
     "name": "stdout",
     "output_type": "stream",
     "text": [
      "Mean Train QWK --> 0.7775\n",
      "Mean Validation QWK ---> 0.3805\n"
     ]
    },
    {
     "name": "stderr",
     "output_type": "stream",
     "text": [
      "\n"
     ]
    },
    {
     "name": "stdout",
     "output_type": "stream",
     "text": [
      "----> || Optimized QWK SCORE :: \u001b[36m\u001b[1m 0.456\u001b[0m\n"
     ]
    },
    {
     "data": {
      "text/html": [
       "<div>\n",
       "<style scoped>\n",
       "    .dataframe tbody tr th:only-of-type {\n",
       "        vertical-align: middle;\n",
       "    }\n",
       "\n",
       "    .dataframe tbody tr th {\n",
       "        vertical-align: top;\n",
       "    }\n",
       "\n",
       "    .dataframe thead th {\n",
       "        text-align: right;\n",
       "    }\n",
       "</style>\n",
       "<table border=\"1\" class=\"dataframe\">\n",
       "  <thead>\n",
       "    <tr style=\"text-align: right;\">\n",
       "      <th></th>\n",
       "      <th>id</th>\n",
       "      <th>sii</th>\n",
       "    </tr>\n",
       "  </thead>\n",
       "  <tbody>\n",
       "    <tr>\n",
       "      <th>0</th>\n",
       "      <td>00008ff9</td>\n",
       "      <td>1</td>\n",
       "    </tr>\n",
       "    <tr>\n",
       "      <th>1</th>\n",
       "      <td>000fd460</td>\n",
       "      <td>0</td>\n",
       "    </tr>\n",
       "    <tr>\n",
       "      <th>2</th>\n",
       "      <td>00105258</td>\n",
       "      <td>0</td>\n",
       "    </tr>\n",
       "    <tr>\n",
       "      <th>3</th>\n",
       "      <td>00115b9f</td>\n",
       "      <td>0</td>\n",
       "    </tr>\n",
       "    <tr>\n",
       "      <th>4</th>\n",
       "      <td>0016bb22</td>\n",
       "      <td>1</td>\n",
       "    </tr>\n",
       "    <tr>\n",
       "      <th>5</th>\n",
       "      <td>001f3379</td>\n",
       "      <td>1</td>\n",
       "    </tr>\n",
       "    <tr>\n",
       "      <th>6</th>\n",
       "      <td>0038ba98</td>\n",
       "      <td>0</td>\n",
       "    </tr>\n",
       "    <tr>\n",
       "      <th>7</th>\n",
       "      <td>0068a485</td>\n",
       "      <td>0</td>\n",
       "    </tr>\n",
       "    <tr>\n",
       "      <th>8</th>\n",
       "      <td>0069fbed</td>\n",
       "      <td>1</td>\n",
       "    </tr>\n",
       "    <tr>\n",
       "      <th>9</th>\n",
       "      <td>0083e397</td>\n",
       "      <td>1</td>\n",
       "    </tr>\n",
       "    <tr>\n",
       "      <th>10</th>\n",
       "      <td>0087dd65</td>\n",
       "      <td>0</td>\n",
       "    </tr>\n",
       "    <tr>\n",
       "      <th>11</th>\n",
       "      <td>00abe655</td>\n",
       "      <td>0</td>\n",
       "    </tr>\n",
       "    <tr>\n",
       "      <th>12</th>\n",
       "      <td>00ae59c9</td>\n",
       "      <td>2</td>\n",
       "    </tr>\n",
       "    <tr>\n",
       "      <th>13</th>\n",
       "      <td>00af6387</td>\n",
       "      <td>1</td>\n",
       "    </tr>\n",
       "    <tr>\n",
       "      <th>14</th>\n",
       "      <td>00bd4359</td>\n",
       "      <td>1</td>\n",
       "    </tr>\n",
       "    <tr>\n",
       "      <th>15</th>\n",
       "      <td>00c0cd71</td>\n",
       "      <td>2</td>\n",
       "    </tr>\n",
       "    <tr>\n",
       "      <th>16</th>\n",
       "      <td>00d56d4b</td>\n",
       "      <td>0</td>\n",
       "    </tr>\n",
       "    <tr>\n",
       "      <th>17</th>\n",
       "      <td>00d9913d</td>\n",
       "      <td>0</td>\n",
       "    </tr>\n",
       "    <tr>\n",
       "      <th>18</th>\n",
       "      <td>00e6167c</td>\n",
       "      <td>0</td>\n",
       "    </tr>\n",
       "    <tr>\n",
       "      <th>19</th>\n",
       "      <td>00ebc35d</td>\n",
       "      <td>1</td>\n",
       "    </tr>\n",
       "  </tbody>\n",
       "</table>\n",
       "</div>"
      ],
      "text/plain": [
       "          id  sii\n",
       "0   00008ff9    1\n",
       "1   000fd460    0\n",
       "2   00105258    0\n",
       "3   00115b9f    0\n",
       "4   0016bb22    1\n",
       "5   001f3379    1\n",
       "6   0038ba98    0\n",
       "7   0068a485    0\n",
       "8   0069fbed    1\n",
       "9   0083e397    1\n",
       "10  0087dd65    0\n",
       "11  00abe655    0\n",
       "12  00ae59c9    2\n",
       "13  00af6387    1\n",
       "14  00bd4359    1\n",
       "15  00c0cd71    2\n",
       "16  00d56d4b    0\n",
       "17  00d9913d    0\n",
       "18  00e6167c    0\n",
       "19  00ebc35d    1"
      ]
     },
     "execution_count": 12,
     "metadata": {},
     "output_type": "execute_result"
    }
   ],
   "source": [
    "Submission3 = TrainML(sample, voting_model, train = train_3, test_data = test_3)\n",
    "Submission3.to_csv('submission.csv', index=False)\n",
    "Submission3"
   ]
  }
 ],
 "metadata": {
  "kaggle": {
   "accelerator": "nvidiaTeslaT4",
   "dataSources": [
    {
     "databundleVersionId": 9643020,
     "sourceId": 81933,
     "sourceType": "competition"
    }
   ],
   "dockerImageVersionId": 30805,
   "isGpuEnabled": true,
   "isInternetEnabled": false,
   "language": "python",
   "sourceType": "notebook"
  },
  "kernelspec": {
   "display_name": "Python 3",
   "language": "python",
   "name": "python3"
  },
  "language_info": {
   "codemirror_mode": {
    "name": "ipython",
    "version": 3
   },
   "file_extension": ".py",
   "mimetype": "text/x-python",
   "name": "python",
   "nbconvert_exporter": "python",
   "pygments_lexer": "ipython3",
   "version": "3.10.14"
  },
  "papermill": {
   "default_parameters": {},
   "duration": 348.640096,
   "end_time": "2024-12-19T16:54:27.761147",
   "environment_variables": {},
   "exception": null,
   "input_path": "__notebook__.ipynb",
   "output_path": "__notebook__.ipynb",
   "parameters": {},
   "start_time": "2024-12-19T16:48:39.121051",
   "version": "2.6.0"
  }
 },
 "nbformat": 4,
 "nbformat_minor": 5
}
